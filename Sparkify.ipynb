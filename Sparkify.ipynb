{
 "cells": [
  {
   "cell_type": "markdown",
   "metadata": {},
   "source": [
    "# Sparkify Project Workspace\n"
   ]
  },
  {
   "cell_type": "markdown",
   "metadata": {},
   "source": [
    "### Project overview"
   ]
  },
  {
   "cell_type": "markdown",
   "metadata": {},
   "source": [
    "This project was made as final capstone on Udacity Data Science Nanodegree by Pedro Rocha.\n",
    "\n",
    "Sparkify is a simulated digital music service as Spotify or Pandora.\n",
    "\n",
    "Millions of users stream music from the app every day using the free or paid version.\n",
    "\n",
    "They can upgrade, downgrade or cancel their account at any time. So it's important to make sure that users love the service!\n",
    "\n",
    "The full dataset is 12GB but in this notebook we'll analyze and deploy ML models in a small subset."
   ]
  },
  {
   "cell_type": "markdown",
   "metadata": {},
   "source": [
    "### Problem Statement"
   ]
  },
  {
   "cell_type": "markdown",
   "metadata": {},
   "source": [
    "The objective of the project is create a model that can predict users churn.\n",
    "\n",
    "It's important to predict when a users are going to cancell their accounts in order to act, offering discounts and incentives.\n",
    "\n",
    "First we'll clean the data set, analyze the data and then perform feature engineering to deploy a ML classificator to achieve our goal.\n",
    "\n",
    "For this project we'll use **SPARK**, so after analyze this small subset we can scale the analysis to the full dataset in a spark cluster.\n",
    "\n",
    "Project process:\n",
    "\n",
    "1- Clean data set: finding missing values, understanding the structure of the dataset, understanding column’s datatypes.\n",
    "\n",
    "2- Data Exploration and Visualization: analyze user behavior, get useful insights on data and visualize calculated statistics.\n",
    "\n",
    "3- Feature Engineering: select features based on the previous steps and put all together into one dataframe.\n",
    "\n",
    "4- Modeling: Initialize and train three machine learning algorithms: Logistic Regression, Random Forest and Gradient Boosted Trees. Use CrossValidation to search for best parameters combination.\n",
    "\n",
    "5- Model Evaluation and Validation: Then I’ll predict results on test and compare perfomance them based on metrics F1 Score, and provide some discussion about the choosen model."
   ]
  },
  {
   "cell_type": "markdown",
   "metadata": {},
   "source": [
    "### Metrics"
   ]
  },
  {
   "cell_type": "markdown",
   "metadata": {},
   "source": [
    "To evaluate our models we'll use **F1-Score**.\n",
    "\n",
    "F1-score is a performance measure that takes into account both false positives and false negatives. It is useful when class distribution is unbalanced, as in our case.\n",
    "\n",
    "Sparkify aims to identify the majority of users who might leave but at the same time we don’t want to give too many discounts for no reason (false positives) or miss out on those who actually cancel the service (false negatives).\n",
    "\n",
    "$$ F1 = 2 \\cdot \\frac{precision \\cdot recall}{precision + recall} $$"
   ]
  },
  {
   "cell_type": "code",
   "execution_count": 1,
   "metadata": {},
   "outputs": [],
   "source": [
    "# import libraries\n",
    "from pyspark.sql import SparkSession\n",
    "from pyspark.sql.functions import avg, col, desc, lit, min, max, udf, when, count\n",
    "from pyspark.sql.types import IntegerType\n",
    "from pyspark.ml import Pipeline\n",
    "from pyspark.ml.classification import LogisticRegression, RandomForestClassifier,GBTClassifier\n",
    "from pyspark.ml.evaluation import MulticlassClassificationEvaluator\n",
    "from pyspark.ml.feature import  StandardScaler,VectorAssembler\n",
    "from pyspark.ml.tuning import CrossValidator, ParamGridBuilder\n",
    "import datetime\n",
    "import pandas as pd\n",
    "import numpy as np\n",
    "import matplotlib.pyplot as plt"
   ]
  },
  {
   "cell_type": "code",
   "execution_count": 2,
   "metadata": {},
   "outputs": [],
   "source": [
    "# create a Spark session\n",
    "spark = SparkSession.builder \\\n",
    "    .master(\"local\") \\\n",
    "    .appName(\"Sparkify - Capstone Project\") \\\n",
    "    .getOrCreate()"
   ]
  },
  {
   "cell_type": "markdown",
   "metadata": {},
   "source": [
    "# Load and Clean Dataset"
   ]
  },
  {
   "cell_type": "code",
   "execution_count": 3,
   "metadata": {},
   "outputs": [
    {
     "data": {
      "text/plain": [
       "DataFrame[artist: string, auth: string, firstName: string, gender: string, itemInSession: bigint, lastName: string, length: double, level: string, location: string, method: string, page: string, registration: bigint, sessionId: bigint, song: string, status: bigint, ts: bigint, userAgent: string, userId: string]"
      ]
     },
     "execution_count": 3,
     "metadata": {},
     "output_type": "execute_result"
    }
   ],
   "source": [
    "sparkify_events = spark.read.json(\"mini_sparkify_event_data.json\")\n",
    "sparkify_events.persist()"
   ]
  },
  {
   "cell_type": "markdown",
   "metadata": {},
   "source": [
    "Let's see how the data set looks"
   ]
  },
  {
   "cell_type": "code",
   "execution_count": 4,
   "metadata": {},
   "outputs": [
    {
     "data": {
      "text/plain": [
       "Row(artist='Martha Tilston', auth='Logged In', firstName='Colin', gender='M', itemInSession=50, lastName='Freeman', length=277.89016, level='paid', location='Bakersfield, CA', method='PUT', page='NextSong', registration=1538173362000, sessionId=29, song='Rockpools', status=200, ts=1538352117000, userAgent='Mozilla/5.0 (Windows NT 6.1; WOW64; rv:31.0) Gecko/20100101 Firefox/31.0', userId='30')"
      ]
     },
     "execution_count": 4,
     "metadata": {},
     "output_type": "execute_result"
    }
   ],
   "source": [
    "#Show first row\n",
    "sparkify_events.head()"
   ]
  },
  {
   "cell_type": "markdown",
   "metadata": {},
   "source": [
    "Show data schema"
   ]
  },
  {
   "cell_type": "code",
   "execution_count": 5,
   "metadata": {},
   "outputs": [
    {
     "name": "stdout",
     "output_type": "stream",
     "text": [
      "root\n",
      " |-- artist: string (nullable = true)\n",
      " |-- auth: string (nullable = true)\n",
      " |-- firstName: string (nullable = true)\n",
      " |-- gender: string (nullable = true)\n",
      " |-- itemInSession: long (nullable = true)\n",
      " |-- lastName: string (nullable = true)\n",
      " |-- length: double (nullable = true)\n",
      " |-- level: string (nullable = true)\n",
      " |-- location: string (nullable = true)\n",
      " |-- method: string (nullable = true)\n",
      " |-- page: string (nullable = true)\n",
      " |-- registration: long (nullable = true)\n",
      " |-- sessionId: long (nullable = true)\n",
      " |-- song: string (nullable = true)\n",
      " |-- status: long (nullable = true)\n",
      " |-- ts: long (nullable = true)\n",
      " |-- userAgent: string (nullable = true)\n",
      " |-- userId: string (nullable = true)\n",
      "\n"
     ]
    }
   ],
   "source": [
    "#Print schema\n",
    "sparkify_events.printSchema()"
   ]
  },
  {
   "cell_type": "markdown",
   "metadata": {},
   "source": [
    "Let's see if we've Nans in the columns"
   ]
  },
  {
   "cell_type": "code",
   "execution_count": 6,
   "metadata": {
    "scrolled": true
   },
   "outputs": [
    {
     "name": "stdout",
     "output_type": "stream",
     "text": [
      "Missing Values\n",
      "\n",
      "artist : 58392\n",
      "auth : 0\n",
      "firstName : 8346\n",
      "gender : 8346\n",
      "itemInSession : 0\n",
      "lastName : 8346\n",
      "length : 58392\n",
      "level : 0\n",
      "location : 8346\n",
      "method : 0\n",
      "page : 0\n",
      "registration : 8346\n",
      "sessionId : 0\n",
      "song : 58392\n",
      "status : 0\n",
      "ts : 0\n",
      "userAgent : 8346\n",
      "userId : 8346\n"
     ]
    }
   ],
   "source": [
    "print('Missing Values\\n')\n",
    "\n",
    "for column in sparkify_events.columns:\n",
    "    missing_values = sparkify_events.where(col(column).isNull()).count()\n",
    "    missing_values += sparkify_events.where(col(column) == \"\").count()\n",
    "    print(column,':', missing_values)"
   ]
  },
  {
   "cell_type": "markdown",
   "metadata": {},
   "source": [
    "We've 8346 missing values in $userId$ column, we need an identification for our goals so that we'll drop rows with no value in this column."
   ]
  },
  {
   "cell_type": "code",
   "execution_count": 7,
   "metadata": {},
   "outputs": [
    {
     "name": "stdout",
     "output_type": "stream",
     "text": [
      "UserId missing values: 0\n"
     ]
    }
   ],
   "source": [
    "#Filter dataframe with no missing values in userId column\n",
    "sparkify_events = sparkify_events.where((sparkify_events.userId != \"\") & (sparkify_events.userId.isNotNull()))\n",
    "\n",
    "#Check missing values\n",
    "missing_values = sparkify_events.where(col('UserId').isNull()).count()\n",
    "missing_values += sparkify_events.where(col('UserId') == \"\").count()\n",
    "print('UserId missing values:', missing_values)"
   ]
  },
  {
   "cell_type": "markdown",
   "metadata": {},
   "source": [
    "Check all columns after drop rows without $userId:$"
   ]
  },
  {
   "cell_type": "code",
   "execution_count": 8,
   "metadata": {},
   "outputs": [
    {
     "name": "stdout",
     "output_type": "stream",
     "text": [
      "Missing Values\n",
      "\n",
      "artist : 50046\n",
      "auth : 0\n",
      "firstName : 0\n",
      "gender : 0\n",
      "itemInSession : 0\n",
      "lastName : 0\n",
      "length : 50046\n",
      "level : 0\n",
      "location : 0\n",
      "method : 0\n",
      "page : 0\n",
      "registration : 0\n",
      "sessionId : 0\n",
      "song : 50046\n",
      "status : 0\n",
      "ts : 0\n",
      "userAgent : 0\n",
      "userId : 0\n"
     ]
    }
   ],
   "source": [
    "print('Missing Values\\n')\n",
    "\n",
    "for column in sparkify_events.columns:\n",
    "    missing_values = sparkify_events.where(col(column).isNull()).count()\n",
    "    missing_values += sparkify_events.where(col(column) == \"\").count()\n",
    "    print(column,':', missing_values)"
   ]
  },
  {
   "cell_type": "markdown",
   "metadata": {},
   "source": [
    "We'll create two columns to have an easy datetime format"
   ]
  },
  {
   "cell_type": "code",
   "execution_count": 9,
   "metadata": {},
   "outputs": [],
   "source": [
    "#create functions to extract date and time from timestamp\n",
    "get_date = udf(lambda ts: datetime.datetime.fromtimestamp(ts/1000).strftime(\"%Y-%m-%d\"))\n",
    "get_hour = udf(lambda ts: datetime.datetime.fromtimestamp(ts/1000).strftime(\"%H\"))"
   ]
  },
  {
   "cell_type": "code",
   "execution_count": 10,
   "metadata": {},
   "outputs": [],
   "source": [
    "#Create two columns for date and time\n",
    "sparkify_events = sparkify_events.withColumn('date',get_date(sparkify_events.ts))\n",
    "sparkify_events = sparkify_events.withColumn('hour',get_hour(sparkify_events.ts))"
   ]
  },
  {
   "cell_type": "markdown",
   "metadata": {},
   "source": [
    "Let's see first 5 rows in a pandas dataframe format"
   ]
  },
  {
   "cell_type": "code",
   "execution_count": 11,
   "metadata": {},
   "outputs": [
    {
     "data": {
      "text/html": [
       "<div>\n",
       "<style scoped>\n",
       "    .dataframe tbody tr th:only-of-type {\n",
       "        vertical-align: middle;\n",
       "    }\n",
       "\n",
       "    .dataframe tbody tr th {\n",
       "        vertical-align: top;\n",
       "    }\n",
       "\n",
       "    .dataframe thead th {\n",
       "        text-align: right;\n",
       "    }\n",
       "</style>\n",
       "<table border=\"1\" class=\"dataframe\">\n",
       "  <thead>\n",
       "    <tr style=\"text-align: right;\">\n",
       "      <th></th>\n",
       "      <th>artist</th>\n",
       "      <th>auth</th>\n",
       "      <th>firstName</th>\n",
       "      <th>gender</th>\n",
       "      <th>itemInSession</th>\n",
       "      <th>lastName</th>\n",
       "      <th>length</th>\n",
       "      <th>level</th>\n",
       "      <th>location</th>\n",
       "      <th>method</th>\n",
       "      <th>page</th>\n",
       "      <th>registration</th>\n",
       "      <th>sessionId</th>\n",
       "      <th>song</th>\n",
       "      <th>status</th>\n",
       "      <th>ts</th>\n",
       "      <th>userAgent</th>\n",
       "      <th>userId</th>\n",
       "      <th>date</th>\n",
       "      <th>hour</th>\n",
       "    </tr>\n",
       "  </thead>\n",
       "  <tbody>\n",
       "    <tr>\n",
       "      <th>0</th>\n",
       "      <td>Martha Tilston</td>\n",
       "      <td>Logged In</td>\n",
       "      <td>Colin</td>\n",
       "      <td>M</td>\n",
       "      <td>50</td>\n",
       "      <td>Freeman</td>\n",
       "      <td>277.89016</td>\n",
       "      <td>paid</td>\n",
       "      <td>Bakersfield, CA</td>\n",
       "      <td>PUT</td>\n",
       "      <td>NextSong</td>\n",
       "      <td>1538173362000</td>\n",
       "      <td>29</td>\n",
       "      <td>Rockpools</td>\n",
       "      <td>200</td>\n",
       "      <td>1538352117000</td>\n",
       "      <td>Mozilla/5.0 (Windows NT 6.1; WOW64; rv:31.0) G...</td>\n",
       "      <td>30</td>\n",
       "      <td>2018-10-01</td>\n",
       "      <td>00</td>\n",
       "    </tr>\n",
       "    <tr>\n",
       "      <th>1</th>\n",
       "      <td>Five Iron Frenzy</td>\n",
       "      <td>Logged In</td>\n",
       "      <td>Micah</td>\n",
       "      <td>M</td>\n",
       "      <td>79</td>\n",
       "      <td>Long</td>\n",
       "      <td>236.09424</td>\n",
       "      <td>free</td>\n",
       "      <td>Boston-Cambridge-Newton, MA-NH</td>\n",
       "      <td>PUT</td>\n",
       "      <td>NextSong</td>\n",
       "      <td>1538331630000</td>\n",
       "      <td>8</td>\n",
       "      <td>Canada</td>\n",
       "      <td>200</td>\n",
       "      <td>1538352180000</td>\n",
       "      <td>\"Mozilla/5.0 (Windows NT 6.1; WOW64) AppleWebK...</td>\n",
       "      <td>9</td>\n",
       "      <td>2018-10-01</td>\n",
       "      <td>00</td>\n",
       "    </tr>\n",
       "    <tr>\n",
       "      <th>2</th>\n",
       "      <td>Adam Lambert</td>\n",
       "      <td>Logged In</td>\n",
       "      <td>Colin</td>\n",
       "      <td>M</td>\n",
       "      <td>51</td>\n",
       "      <td>Freeman</td>\n",
       "      <td>282.82730</td>\n",
       "      <td>paid</td>\n",
       "      <td>Bakersfield, CA</td>\n",
       "      <td>PUT</td>\n",
       "      <td>NextSong</td>\n",
       "      <td>1538173362000</td>\n",
       "      <td>29</td>\n",
       "      <td>Time For Miracles</td>\n",
       "      <td>200</td>\n",
       "      <td>1538352394000</td>\n",
       "      <td>Mozilla/5.0 (Windows NT 6.1; WOW64; rv:31.0) G...</td>\n",
       "      <td>30</td>\n",
       "      <td>2018-10-01</td>\n",
       "      <td>00</td>\n",
       "    </tr>\n",
       "    <tr>\n",
       "      <th>3</th>\n",
       "      <td>Enigma</td>\n",
       "      <td>Logged In</td>\n",
       "      <td>Micah</td>\n",
       "      <td>M</td>\n",
       "      <td>80</td>\n",
       "      <td>Long</td>\n",
       "      <td>262.71302</td>\n",
       "      <td>free</td>\n",
       "      <td>Boston-Cambridge-Newton, MA-NH</td>\n",
       "      <td>PUT</td>\n",
       "      <td>NextSong</td>\n",
       "      <td>1538331630000</td>\n",
       "      <td>8</td>\n",
       "      <td>Knocking On Forbidden Doors</td>\n",
       "      <td>200</td>\n",
       "      <td>1538352416000</td>\n",
       "      <td>\"Mozilla/5.0 (Windows NT 6.1; WOW64) AppleWebK...</td>\n",
       "      <td>9</td>\n",
       "      <td>2018-10-01</td>\n",
       "      <td>00</td>\n",
       "    </tr>\n",
       "    <tr>\n",
       "      <th>4</th>\n",
       "      <td>Daft Punk</td>\n",
       "      <td>Logged In</td>\n",
       "      <td>Colin</td>\n",
       "      <td>M</td>\n",
       "      <td>52</td>\n",
       "      <td>Freeman</td>\n",
       "      <td>223.60771</td>\n",
       "      <td>paid</td>\n",
       "      <td>Bakersfield, CA</td>\n",
       "      <td>PUT</td>\n",
       "      <td>NextSong</td>\n",
       "      <td>1538173362000</td>\n",
       "      <td>29</td>\n",
       "      <td>Harder Better Faster Stronger</td>\n",
       "      <td>200</td>\n",
       "      <td>1538352676000</td>\n",
       "      <td>Mozilla/5.0 (Windows NT 6.1; WOW64; rv:31.0) G...</td>\n",
       "      <td>30</td>\n",
       "      <td>2018-10-01</td>\n",
       "      <td>00</td>\n",
       "    </tr>\n",
       "  </tbody>\n",
       "</table>\n",
       "</div>"
      ],
      "text/plain": [
       "             artist       auth firstName gender  itemInSession lastName  \\\n",
       "0    Martha Tilston  Logged In     Colin      M             50  Freeman   \n",
       "1  Five Iron Frenzy  Logged In     Micah      M             79     Long   \n",
       "2      Adam Lambert  Logged In     Colin      M             51  Freeman   \n",
       "3            Enigma  Logged In     Micah      M             80     Long   \n",
       "4         Daft Punk  Logged In     Colin      M             52  Freeman   \n",
       "\n",
       "      length level                        location method      page  \\\n",
       "0  277.89016  paid                 Bakersfield, CA    PUT  NextSong   \n",
       "1  236.09424  free  Boston-Cambridge-Newton, MA-NH    PUT  NextSong   \n",
       "2  282.82730  paid                 Bakersfield, CA    PUT  NextSong   \n",
       "3  262.71302  free  Boston-Cambridge-Newton, MA-NH    PUT  NextSong   \n",
       "4  223.60771  paid                 Bakersfield, CA    PUT  NextSong   \n",
       "\n",
       "    registration  sessionId                           song  status  \\\n",
       "0  1538173362000         29                      Rockpools     200   \n",
       "1  1538331630000          8                         Canada     200   \n",
       "2  1538173362000         29              Time For Miracles     200   \n",
       "3  1538331630000          8    Knocking On Forbidden Doors     200   \n",
       "4  1538173362000         29  Harder Better Faster Stronger     200   \n",
       "\n",
       "              ts                                          userAgent userId  \\\n",
       "0  1538352117000  Mozilla/5.0 (Windows NT 6.1; WOW64; rv:31.0) G...     30   \n",
       "1  1538352180000  \"Mozilla/5.0 (Windows NT 6.1; WOW64) AppleWebK...      9   \n",
       "2  1538352394000  Mozilla/5.0 (Windows NT 6.1; WOW64; rv:31.0) G...     30   \n",
       "3  1538352416000  \"Mozilla/5.0 (Windows NT 6.1; WOW64) AppleWebK...      9   \n",
       "4  1538352676000  Mozilla/5.0 (Windows NT 6.1; WOW64; rv:31.0) G...     30   \n",
       "\n",
       "         date hour  \n",
       "0  2018-10-01   00  \n",
       "1  2018-10-01   00  \n",
       "2  2018-10-01   00  \n",
       "3  2018-10-01   00  \n",
       "4  2018-10-01   00  "
      ]
     },
     "execution_count": 11,
     "metadata": {},
     "output_type": "execute_result"
    }
   ],
   "source": [
    "events_df = sparkify_events.toPandas()\n",
    "events_df.head()"
   ]
  },
  {
   "cell_type": "markdown",
   "metadata": {},
   "source": [
    "# Exploratory Data Analysis\n"
   ]
  },
  {
   "cell_type": "markdown",
   "metadata": {},
   "source": [
    "It'd be interesting to see how users listen to music through the day..."
   ]
  },
  {
   "cell_type": "code",
   "execution_count": 12,
   "metadata": {},
   "outputs": [
    {
     "data": {
      "text/html": [
       "<div>\n",
       "<style scoped>\n",
       "    .dataframe tbody tr th:only-of-type {\n",
       "        vertical-align: middle;\n",
       "    }\n",
       "\n",
       "    .dataframe tbody tr th {\n",
       "        vertical-align: top;\n",
       "    }\n",
       "\n",
       "    .dataframe thead th {\n",
       "        text-align: right;\n",
       "    }\n",
       "</style>\n",
       "<table border=\"1\" class=\"dataframe\">\n",
       "  <thead>\n",
       "    <tr style=\"text-align: right;\">\n",
       "      <th></th>\n",
       "      <th>hour</th>\n",
       "      <th>Songs Played</th>\n",
       "    </tr>\n",
       "  </thead>\n",
       "  <tbody>\n",
       "    <tr>\n",
       "      <th>0</th>\n",
       "      <td>00</td>\n",
       "      <td>9062</td>\n",
       "    </tr>\n",
       "    <tr>\n",
       "      <th>1</th>\n",
       "      <td>01</td>\n",
       "      <td>8388</td>\n",
       "    </tr>\n",
       "    <tr>\n",
       "      <th>2</th>\n",
       "      <td>02</td>\n",
       "      <td>8336</td>\n",
       "    </tr>\n",
       "    <tr>\n",
       "      <th>3</th>\n",
       "      <td>03</td>\n",
       "      <td>8355</td>\n",
       "    </tr>\n",
       "    <tr>\n",
       "      <th>4</th>\n",
       "      <td>04</td>\n",
       "      <td>8147</td>\n",
       "    </tr>\n",
       "    <tr>\n",
       "      <th>5</th>\n",
       "      <td>05</td>\n",
       "      <td>8178</td>\n",
       "    </tr>\n",
       "    <tr>\n",
       "      <th>6</th>\n",
       "      <td>06</td>\n",
       "      <td>8054</td>\n",
       "    </tr>\n",
       "    <tr>\n",
       "      <th>7</th>\n",
       "      <td>07</td>\n",
       "      <td>8091</td>\n",
       "    </tr>\n",
       "    <tr>\n",
       "      <th>8</th>\n",
       "      <td>08</td>\n",
       "      <td>8253</td>\n",
       "    </tr>\n",
       "    <tr>\n",
       "      <th>9</th>\n",
       "      <td>09</td>\n",
       "      <td>8498</td>\n",
       "    </tr>\n",
       "    <tr>\n",
       "      <th>10</th>\n",
       "      <td>10</td>\n",
       "      <td>8882</td>\n",
       "    </tr>\n",
       "    <tr>\n",
       "      <th>11</th>\n",
       "      <td>11</td>\n",
       "      <td>8830</td>\n",
       "    </tr>\n",
       "    <tr>\n",
       "      <th>12</th>\n",
       "      <td>12</td>\n",
       "      <td>9326</td>\n",
       "    </tr>\n",
       "    <tr>\n",
       "      <th>13</th>\n",
       "      <td>13</td>\n",
       "      <td>9644</td>\n",
       "    </tr>\n",
       "    <tr>\n",
       "      <th>14</th>\n",
       "      <td>14</td>\n",
       "      <td>10494</td>\n",
       "    </tr>\n",
       "    <tr>\n",
       "      <th>15</th>\n",
       "      <td>15</td>\n",
       "      <td>11354</td>\n",
       "    </tr>\n",
       "    <tr>\n",
       "      <th>16</th>\n",
       "      <td>16</td>\n",
       "      <td>11636</td>\n",
       "    </tr>\n",
       "    <tr>\n",
       "      <th>17</th>\n",
       "      <td>17</td>\n",
       "      <td>11460</td>\n",
       "    </tr>\n",
       "    <tr>\n",
       "      <th>18</th>\n",
       "      <td>18</td>\n",
       "      <td>11124</td>\n",
       "    </tr>\n",
       "    <tr>\n",
       "      <th>19</th>\n",
       "      <td>19</td>\n",
       "      <td>10930</td>\n",
       "    </tr>\n",
       "    <tr>\n",
       "      <th>20</th>\n",
       "      <td>20</td>\n",
       "      <td>10856</td>\n",
       "    </tr>\n",
       "    <tr>\n",
       "      <th>21</th>\n",
       "      <td>21</td>\n",
       "      <td>10458</td>\n",
       "    </tr>\n",
       "    <tr>\n",
       "      <th>22</th>\n",
       "      <td>22</td>\n",
       "      <td>10122</td>\n",
       "    </tr>\n",
       "    <tr>\n",
       "      <th>23</th>\n",
       "      <td>23</td>\n",
       "      <td>9630</td>\n",
       "    </tr>\n",
       "  </tbody>\n",
       "</table>\n",
       "</div>"
      ],
      "text/plain": [
       "   hour  Songs Played\n",
       "0    00          9062\n",
       "1    01          8388\n",
       "2    02          8336\n",
       "3    03          8355\n",
       "4    04          8147\n",
       "5    05          8178\n",
       "6    06          8054\n",
       "7    07          8091\n",
       "8    08          8253\n",
       "9    09          8498\n",
       "10   10          8882\n",
       "11   11          8830\n",
       "12   12          9326\n",
       "13   13          9644\n",
       "14   14         10494\n",
       "15   15         11354\n",
       "16   16         11636\n",
       "17   17         11460\n",
       "18   18         11124\n",
       "19   19         10930\n",
       "20   20         10856\n",
       "21   21         10458\n",
       "22   22         10122\n",
       "23   23          9630"
      ]
     },
     "execution_count": 12,
     "metadata": {},
     "output_type": "execute_result"
    }
   ],
   "source": [
    "#Create a pandas DF with songs played each hour of day\n",
    "songs_by_hour = sparkify_events.filter(\"page == 'NextSong'\").groupBy('hour').count().orderBy('hour').toPandas()\n",
    "#Rename column\n",
    "songs_by_hour = songs_by_hour.rename(columns = {'count':'Songs Played'})\n",
    "#show df\n",
    "songs_by_hour"
   ]
  },
  {
   "cell_type": "markdown",
   "metadata": {},
   "source": [
    "Plot the results:"
   ]
  },
  {
   "cell_type": "code",
   "execution_count": 13,
   "metadata": {},
   "outputs": [
    {
     "data": {
      "image/png": "[encoded data removed]",
      "text/plain": [
       "<matplotlib.figure.Figure at 0x7f80998534e0>"
      ]
     },
     "metadata": {
      "needs_background": "light"
     },
     "output_type": "display_data"
    }
   ],
   "source": [
    "songs_by_hour.plot(kind = \"line\", figsize= (10,5))\n",
    "plt.xticks(np.arange(0,24,1))\n",
    "plt.xlabel(\"Hours of Day\")\n",
    "plt.ylabel(\"Number of Songs Played\")\n",
    "plt.title(\"Number of Songs Played per Hour\")\n",
    "plt.show();"
   ]
  },
  {
   "cell_type": "markdown",
   "metadata": {},
   "source": [
    "We want to know the possible events. Let's check unique values for column $page$:"
   ]
  },
  {
   "cell_type": "code",
   "execution_count": 14,
   "metadata": {},
   "outputs": [
    {
     "name": "stdout",
     "output_type": "stream",
     "text": [
      "+--------------------+\n",
      "|                page|\n",
      "+--------------------+\n",
      "|              Cancel|\n",
      "|    Submit Downgrade|\n",
      "|         Thumbs Down|\n",
      "|                Home|\n",
      "|           Downgrade|\n",
      "|         Roll Advert|\n",
      "|              Logout|\n",
      "|       Save Settings|\n",
      "|Cancellation Conf...|\n",
      "|               About|\n",
      "|            Settings|\n",
      "|     Add to Playlist|\n",
      "|          Add Friend|\n",
      "|            NextSong|\n",
      "|           Thumbs Up|\n",
      "|                Help|\n",
      "|             Upgrade|\n",
      "|               Error|\n",
      "|      Submit Upgrade|\n",
      "+--------------------+\n",
      "\n"
     ]
    }
   ],
   "source": [
    "#See unique values for page, it shows possible events\n",
    "sparkify_events.select('page').distinct().show()"
   ]
  },
  {
   "cell_type": "markdown",
   "metadata": {},
   "source": [
    "See possible values for column $level$"
   ]
  },
  {
   "cell_type": "code",
   "execution_count": 15,
   "metadata": {},
   "outputs": [
    {
     "name": "stdout",
     "output_type": "stream",
     "text": [
      "+-----+\n",
      "|level|\n",
      "+-----+\n",
      "| free|\n",
      "| paid|\n",
      "+-----+\n",
      "\n"
     ]
    }
   ],
   "source": [
    "#See unique values for level, it shows possible account level\n",
    "sparkify_events.select('level').distinct().show()"
   ]
  },
  {
   "cell_type": "markdown",
   "metadata": {},
   "source": [
    "How many unique users are in the data set?"
   ]
  },
  {
   "cell_type": "code",
   "execution_count": 16,
   "metadata": {},
   "outputs": [
    {
     "name": "stdout",
     "output_type": "stream",
     "text": [
      "Unique users: 225\n"
     ]
    }
   ],
   "source": [
    "#Count unique userid\n",
    "\n",
    "print('Unique users:', sparkify_events.select('userId').distinct().count())"
   ]
  },
  {
   "cell_type": "markdown",
   "metadata": {},
   "source": [
    "Now we want to check data we can use to create our Churn column.\n",
    "\n",
    "First we'll label the users that cancell their account"
   ]
  },
  {
   "cell_type": "code",
   "execution_count": 17,
   "metadata": {},
   "outputs": [],
   "source": [
    "#save ids for users who churned and downgraded\n",
    "\n",
    "#Select users who churned\n",
    "churned_userIds = sparkify_events.select('userId').where(\"page == 'Cancellation Confirmation'\").dropDuplicates().collect()\n",
    "#Convert rows to list\n",
    "churned_userIds = [user.userId for user in churned_userIds]\n",
    "\n",
    "#Select users who downgraded\n",
    "downgraded_userIds = sparkify_events.select('userId').where(\"page == 'Submit Downgrade'\").dropDuplicates().collect()\n",
    "#Convert rows to list\n",
    "downgraded_userIds = [user.userId for user in downgraded_userIds]"
   ]
  },
  {
   "cell_type": "markdown",
   "metadata": {},
   "source": [
    "Check for users who first downgrade and then cancel account"
   ]
  },
  {
   "cell_type": "code",
   "execution_count": 18,
   "metadata": {
    "scrolled": false
   },
   "outputs": [
    {
     "name": "stdout",
     "output_type": "stream",
     "text": [
      "9 users downgrade before cancel the account\n"
     ]
    }
   ],
   "source": [
    "print(len(np.intersect1d(np.array(churned_userIds),np.array(downgraded_userIds))),'users downgrade before cancel the account')"
   ]
  },
  {
   "cell_type": "code",
   "execution_count": 19,
   "metadata": {},
   "outputs": [
    {
     "data": {
      "text/plain": [
       "Row(artist='Martha Tilston', auth='Logged In', firstName='Colin', gender='M', itemInSession=50, lastName='Freeman', length=277.89016, level='paid', location='Bakersfield, CA', method='PUT', page='NextSong', registration=1538173362000, sessionId=29, song='Rockpools', status=200, ts=1538352117000, userAgent='Mozilla/5.0 (Windows NT 6.1; WOW64; rv:31.0) Gecko/20100101 Firefox/31.0', userId='30', date='2018-10-01', hour='00', churn=0, downgrade=1)"
      ]
     },
     "execution_count": 19,
     "metadata": {},
     "output_type": "execute_result"
    }
   ],
   "source": [
    "#Create a column to label users that cancell their account with 1\n",
    "sparkify_events = sparkify_events.withColumn('churn', when(col(\"userId\").isin(churned_userIds),1).otherwise(0))\n",
    "\n",
    "#Create a column to label users that downgrade their level with 1\n",
    "sparkify_events = sparkify_events.withColumn('downgrade',when(col(\"userId\").isin(downgraded_userIds),1).otherwise(0))\n",
    "\n",
    "sparkify_events.head()"
   ]
  },
  {
   "cell_type": "markdown",
   "metadata": {},
   "source": [
    "Now it's time to explore the differences in behaviour between users who churned the service and the ones who don't "
   ]
  },
  {
   "cell_type": "markdown",
   "metadata": {},
   "source": [
    "### Number of thumbs up and down per user"
   ]
  },
  {
   "cell_type": "markdown",
   "metadata": {},
   "source": [
    "Groupby userId and count Thumbs Up and Down. Then join the two columns to put all together"
   ]
  },
  {
   "cell_type": "code",
   "execution_count": 20,
   "metadata": {},
   "outputs": [
    {
     "data": {
      "text/plain": [
       "Row(churn=0, userId='114', Thumbs Up=74)"
      ]
     },
     "execution_count": 20,
     "metadata": {},
     "output_type": "execute_result"
    }
   ],
   "source": [
    "#Group and count Thumbs UP\n",
    "\n",
    "thumbs_up = sparkify_events.select('userId','page','churn').where(\"page = 'Thumbs Up'\").groupBy(['churn','userId']).agg(count('page').alias('Thumbs Up'))\n",
    "thumbs_up.head()"
   ]
  },
  {
   "cell_type": "code",
   "execution_count": 21,
   "metadata": {},
   "outputs": [
    {
     "data": {
      "text/plain": [
       "Row(churn=0, userId='114', Thumbs Down=12)"
      ]
     },
     "execution_count": 21,
     "metadata": {},
     "output_type": "execute_result"
    }
   ],
   "source": [
    "#Group and count Thumbs Down\n",
    "\n",
    "thumbs_down = sparkify_events.select('userId','page','churn').where(\"page = 'Thumbs Down'\").groupBy(['churn','userId']).agg(count('page').alias('Thumbs Down'))\n",
    "thumbs_down.head()"
   ]
  },
  {
   "cell_type": "markdown",
   "metadata": {},
   "source": [
    "Joint the two dataframes and calculate the AVG thumbs (Up and Down) per user in both groups"
   ]
  },
  {
   "cell_type": "code",
   "execution_count": 22,
   "metadata": {},
   "outputs": [
    {
     "data": {
      "text/plain": [
       "[Row(churn=1, Avg Thumbs Down=10.53191489361702, Avg Thumbs Up=39.276595744680854),\n",
       " Row(churn=0, Avg Thumbs Down=13.225806451612904, Avg Thumbs Up=68.53548387096774)]"
      ]
     },
     "execution_count": 22,
     "metadata": {},
     "output_type": "execute_result"
    }
   ],
   "source": [
    "#Join dataframes by userId\n",
    "thumbs = thumbs_down.join(thumbs_up.select('userId','Thumbs Up'), 'userId')\n",
    "#Calculate avg for each group\n",
    "thumbs = thumbs.select('churn','Thumbs Down','Thumbs Up').groupBy('churn').agg(avg('Thumbs Down').alias('Avg Thumbs Down'),avg('Thumbs Up').alias('Avg Thumbs Up'))\n",
    "thumbs.head(2)"
   ]
  },
  {
   "cell_type": "code",
   "execution_count": 23,
   "metadata": {},
   "outputs": [
    {
     "name": "stdout",
     "output_type": "stream",
     "text": [
      "AVG proportion of Thumbs Down in group 0: 0.1617612246508325\n",
      "AVG proportion of Thumbs Down in group 1: 0.21144809910294743\n"
     ]
    }
   ],
   "source": [
    "print('AVG proportion of Thumbs Down in group 0:',13.225806451612904/(68.53548387096774 + 13.225806451612904))\n",
    "print('AVG proportion of Thumbs Down in group 1:',10.53191489361702/(39.276595744680854 + 10.53191489361702))"
   ]
  },
  {
   "cell_type": "code",
   "execution_count": 24,
   "metadata": {},
   "outputs": [],
   "source": [
    "#set plt style\n",
    "plt.style.use('bmh')\n",
    "plt.style.use('seaborn-ticks')"
   ]
  },
  {
   "cell_type": "code",
   "execution_count": 25,
   "metadata": {},
   "outputs": [
    {
     "data": {
      "image/png": "[encoded data removed]",
      "text/plain": [
       "<matplotlib.figure.Figure at 0x7f80825ee320>"
      ]
     },
     "metadata": {},
     "output_type": "display_data"
    }
   ],
   "source": [
    "#Plot results\n",
    "thumbs = thumbs.toPandas()\n",
    "thumbs.set_index('churn',inplace=True)\n",
    "thumbs.plot(kind='Bar', )\n",
    "plt.ylabel('Count');"
   ]
  },
  {
   "cell_type": "markdown",
   "metadata": {},
   "source": [
    "### How many friends in avg have the users in each group?"
   ]
  },
  {
   "cell_type": "code",
   "execution_count": 26,
   "metadata": {},
   "outputs": [
    {
     "name": "stdout",
     "output_type": "stream",
     "text": [
      "[Row(churn=1, AVG Friends=14.454545454545455), Row(churn=0, AVG Friends=22.47530864197531)]\n"
     ]
    }
   ],
   "source": [
    "#Gropy by UserId and count number of friends\n",
    "friends = sparkify_events.select('userId','page','churn').where(\"page == 'Add Friend'\").groupBy(['churn','userId']).agg(count('page').alias('Friends'))\n",
    "#calculate avg for each group\n",
    "friends_avg = friends.select('churn','Friends').groupBy('churn').agg(avg('Friends').alias('AVG Friends'))\n",
    "#Print results\n",
    "print(friends_avg.head(2))\n",
    "\n",
    "#Create pandas DF\n",
    "friends_df = friends_avg.toPandas()\n",
    "#Set Churn as index\n",
    "friends_df.set_index('churn',inplace=True)"
   ]
  },
  {
   "cell_type": "code",
   "execution_count": 27,
   "metadata": {},
   "outputs": [
    {
     "data": {
      "image/png": "[encoded data removed]",
      "text/plain": [
       "<matplotlib.figure.Figure at 0x7f80870c4e48>"
      ]
     },
     "metadata": {},
     "output_type": "display_data"
    }
   ],
   "source": [
    "#plot results\n",
    "friends_df.plot(kind='Bar', color = 'darkred')\n",
    "plt.ylabel('Count');"
   ]
  },
  {
   "cell_type": "code",
   "execution_count": 28,
   "metadata": {},
   "outputs": [
    {
     "data": {
      "text/html": [
       "<div>\n",
       "<style scoped>\n",
       "    .dataframe tbody tr th:only-of-type {\n",
       "        vertical-align: middle;\n",
       "    }\n",
       "\n",
       "    .dataframe tbody tr th {\n",
       "        vertical-align: top;\n",
       "    }\n",
       "\n",
       "    .dataframe thead th {\n",
       "        text-align: right;\n",
       "    }\n",
       "</style>\n",
       "<table border=\"1\" class=\"dataframe\">\n",
       "  <thead>\n",
       "    <tr style=\"text-align: right;\">\n",
       "      <th></th>\n",
       "      <th>Avg Sessions</th>\n",
       "    </tr>\n",
       "    <tr>\n",
       "      <th>churn</th>\n",
       "      <th></th>\n",
       "    </tr>\n",
       "  </thead>\n",
       "  <tbody>\n",
       "    <tr>\n",
       "      <th>1</th>\n",
       "      <td>10.326923</td>\n",
       "    </tr>\n",
       "    <tr>\n",
       "      <th>0</th>\n",
       "      <td>15.254335</td>\n",
       "    </tr>\n",
       "  </tbody>\n",
       "</table>\n",
       "</div>"
      ],
      "text/plain": [
       "       Avg Sessions\n",
       "churn              \n",
       "1         10.326923\n",
       "0         15.254335"
      ]
     },
     "execution_count": 28,
     "metadata": {},
     "output_type": "execute_result"
    }
   ],
   "source": [
    "#GroupBy user and count sessionsIds\n",
    "n_sessions = sparkify_events.select('userId','sessionId','churn').distinct().groupBy(['churn','userId']).agg(count('sessionId').alias('Sessions'))\n",
    "#Groupby Churn and calculate avg sessions by group and convert to pandas DF\n",
    "sessions_df = n_sessions.select('churn','Sessions').groupBy('churn').agg(avg('Sessions').alias('Avg Sessions')).toPandas()\n",
    "\n",
    "#Set churn as index\n",
    "sessions_df.set_index('churn',inplace=True)\n",
    "#Show df\n",
    "sessions_df"
   ]
  },
  {
   "cell_type": "code",
   "execution_count": 29,
   "metadata": {},
   "outputs": [
    {
     "data": {
      "image/png": "[encoded data removed]",
      "text/plain": [
       "<matplotlib.figure.Figure at 0x7f80812d4ac8>"
      ]
     },
     "metadata": {},
     "output_type": "display_data"
    }
   ],
   "source": [
    "#Plot results\n",
    "sessions_df.plot(kind='Bar', color = 'darkred')\n",
    "plt.ylabel('Count');"
   ]
  },
  {
   "cell_type": "markdown",
   "metadata": {},
   "source": [
    "### Songs listen to users in each group"
   ]
  },
  {
   "cell_type": "code",
   "execution_count": 30,
   "metadata": {},
   "outputs": [
    {
     "name": "stdout",
     "output_type": "stream",
     "text": [
      "[Row(churn=1, AVG Played_Songs=699.8846153846154), Row(churn=0, AVG Played_Songs=1108.1734104046243)]\n"
     ]
    }
   ],
   "source": [
    "#Gropy by UserId and count number of songs played\n",
    "songs = sparkify_events.select('userId','page','churn').where(\"page == 'NextSong'\").groupBy(['userId','churn']).agg(count('page').alias('Played_Songs'))\n",
    "#calculate avg for each group\n",
    "songs_avg = songs.select('churn','Played_Songs').groupBy('churn').agg(avg('Played_Songs').alias('AVG Played_Songs'))\n",
    "#Print results\n",
    "print(songs_avg.head(2))\n",
    "\n",
    "#Create pandas DF\n",
    "songs_df = songs_avg.toPandas()\n",
    "#Set Churn as index\n",
    "songs_df.set_index('churn',inplace=True)"
   ]
  },
  {
   "cell_type": "code",
   "execution_count": 31,
   "metadata": {},
   "outputs": [
    {
     "data": {
      "image/png": "[encoded data removed]",
      "text/plain": [
       "<matplotlib.figure.Figure at 0x7f808100dc88>"
      ]
     },
     "metadata": {},
     "output_type": "display_data"
    }
   ],
   "source": [
    "#plot results\n",
    "songs_df.plot(kind='Bar', color = 'darkred')\n",
    "plt.ylabel('Count');"
   ]
  },
  {
   "cell_type": "markdown",
   "metadata": {},
   "source": [
    "### Songs added to playlist by users "
   ]
  },
  {
   "cell_type": "code",
   "execution_count": 32,
   "metadata": {},
   "outputs": [
    {
     "name": "stdout",
     "output_type": "stream",
     "text": [
      "[Row(churn=1, AVG Playlist=20.76), Row(churn=0, AVG Playlist=33.26060606060606)]\n"
     ]
    }
   ],
   "source": [
    "#Gropy by UserId and count number of songs played\n",
    "playlist = sparkify_events.select('userId','page','churn').where(\"page == 'Add to Playlist'\").groupBy(['userId','churn']).agg(count('page').alias('Playlist'))\n",
    "#calculate avg for each group\n",
    "playlist_avg = playlist.select('churn','Playlist').groupBy('churn').agg(avg('Playlist').alias('AVG Playlist'))\n",
    "#Print results\n",
    "print(playlist_avg.head(2))\n",
    "\n",
    "#Create pandas DF\n",
    "playlist_df = playlist_avg.toPandas()\n",
    "#Set Churn as index\n",
    "playlist_df.set_index('churn',inplace=True)"
   ]
  },
  {
   "cell_type": "code",
   "execution_count": 33,
   "metadata": {},
   "outputs": [
    {
     "data": {
      "image/png": "[encoded data removed]",
      "text/plain": [
       "<matplotlib.figure.Figure at 0x7f80982c6080>"
      ]
     },
     "metadata": {},
     "output_type": "display_data"
    }
   ],
   "source": [
    "#plot results\n",
    "playlist_df.plot(kind='Bar', color = 'darkred')\n",
    "plt.ylabel('Count');"
   ]
  },
  {
   "cell_type": "markdown",
   "metadata": {},
   "source": [
    "### Create features dataframe"
   ]
  },
  {
   "cell_type": "code",
   "execution_count": 34,
   "metadata": {},
   "outputs": [
    {
     "data": {
      "text/plain": [
       "[Row(userId='10', label=0, Played_Songs=673, Sessions=6, Friends=12, Thumbs Up=37, Thumbs Down=4, Playlist=9),\n",
       " Row(userId='100', label=0, Played_Songs=2682, Sessions=35, Friends=49, Thumbs Up=148, Thumbs Down=27, Playlist=61),\n",
       " Row(userId='100001', label=1, Played_Songs=133, Sessions=4, Friends=2, Thumbs Up=8, Thumbs Down=2, Playlist=3),\n",
       " Row(userId='100002', label=0, Played_Songs=195, Sessions=4, Friends=1, Thumbs Up=5, Thumbs Down=0, Playlist=5),\n",
       " Row(userId='100003', label=1, Played_Songs=51, Sessions=2, Friends=0, Thumbs Up=3, Thumbs Down=0, Playlist=2)]"
      ]
     },
     "execution_count": 34,
     "metadata": {},
     "output_type": "execute_result"
    }
   ],
   "source": [
    "#Join all features calculated above in one dataframe\n",
    "sparkify_features = songs.join(n_sessions.select('userId','Sessions'),on = 'userId', how = 'outer')\\\n",
    "                         .join(friends.select('userId','Friends'),on = 'userId', how = 'outer')\\\n",
    "                         .join(thumbs_up.select('userId','Thumbs Up'),on = 'userId', how = 'outer')\\\n",
    "                         .join(thumbs_down.select('userId','Thumbs Down'),on = 'userId', how = 'outer')\\\n",
    "                         .join(playlist.select('userId','Playlist'),on = 'userId', how = 'outer')\n",
    "                               \n",
    "                               \n",
    "#If some feature have a Nan it means user have not interacted with this page, for example never added a friend\n",
    "#So that we'll replace nans with 0\n",
    "sparkify_features = sparkify_features.fillna(0)\n",
    "\n",
    "#Sort dataframe by userId\n",
    "sparkify_features = sparkify_features.orderBy('userId')\n",
    "\n",
    "#Change column name \"churn\" to \"label\"\n",
    "sparkify_features = sparkify_features.withColumnRenamed('churn','label')\n",
    "\n",
    "#Let's check how the dataframe looks\n",
    "sparkify_features.head(5)"
   ]
  },
  {
   "cell_type": "code",
   "execution_count": 35,
   "metadata": {},
   "outputs": [
    {
     "data": {
      "text/plain": [
       "225"
      ]
     },
     "execution_count": 35,
     "metadata": {},
     "output_type": "execute_result"
    }
   ],
   "source": [
    "#Check that we've all users in dataset\n",
    "sparkify_features.count()"
   ]
  },
  {
   "cell_type": "markdown",
   "metadata": {},
   "source": [
    "### Summary\n",
    "\n",
    "Based on what we see in our exploratory analysis, we can observe some characteristics in the behavior of the users of each group.\n",
    "\n",
    "Users who churned the app have in average:\n",
    "\n",
    "* Less friends\n",
    "* Less Thumbs Up\n",
    "* Higher proportion of Thumbs Down\n",
    "* Less songs played\n",
    "* Less sessions, which means that use less the app\n",
    "* Add less songs to playlist\n",
    "\n",
    "All this insights show a lower usage of the app in users that cancelled their account."
   ]
  },
  {
   "cell_type": "markdown",
   "metadata": {},
   "source": [
    "# Feature Engineering"
   ]
  },
  {
   "cell_type": "code",
   "execution_count": 36,
   "metadata": {},
   "outputs": [],
   "source": [
    "#Initialize Vector Assembler\n",
    "assembler = VectorAssembler(inputCols=(sparkify_features.columns[2:]),outputCol='numfeatures')\n",
    "\n",
    "#Initialize Standard Scaler\n",
    "scaler = StandardScaler(inputCol='numfeatures',outputCol='features', withMean=True, withStd=True)\n"
   ]
  },
  {
   "cell_type": "markdown",
   "metadata": {},
   "source": [
    "# Modeling\n"
   ]
  },
  {
   "cell_type": "markdown",
   "metadata": {},
   "source": [
    "We'll try three clasification ML models:\n",
    "\n",
    "* Logistic Regression\n",
    "\n",
    "* Random Forest\n",
    "\n",
    "* GBT Classifier"
   ]
  },
  {
   "cell_type": "markdown",
   "metadata": {},
   "source": [
    "### Train - Test Split"
   ]
  },
  {
   "cell_type": "code",
   "execution_count": 37,
   "metadata": {},
   "outputs": [],
   "source": [
    "train, test = sparkify_features.randomSplit([0.8,0.2], seed=42)"
   ]
  },
  {
   "cell_type": "markdown",
   "metadata": {},
   "source": [
    "### Logistic Regression"
   ]
  },
  {
   "cell_type": "code",
   "execution_count": 38,
   "metadata": {},
   "outputs": [],
   "source": [
    "#Initialize Logistic Regression model\n",
    "lr = LogisticRegression(maxIter=10, regParam = 0.0, elasticNetParam = 0)\n",
    "\n",
    "#Set pipeline\n",
    "pipeline = Pipeline(stages = [assembler,scaler,lr])\n",
    "\n",
    "#Set param grid\n",
    "paramGrid = ParamGridBuilder()\\\n",
    "            .addGrid(scaler.withMean,[True,False])\\\n",
    "            .addGrid(lr.regParam,[0.0,0.1])\\\n",
    "            .build()\n",
    "  \n",
    "#cross validation\n",
    "crossval = CrossValidator(estimator = pipeline,\n",
    "                         estimatorParamMaps = paramGrid,\n",
    "                         evaluator= MulticlassClassificationEvaluator(),\n",
    "                         numFolds = 3)\n",
    "\n",
    "\n",
    "#Train pipeline\n",
    "cvModel_lr = crossval.fit(train)\n",
    "\n",
    "#Transform test data\n",
    "results_lr = cvModel_lr.transform(test)"
   ]
  },
  {
   "cell_type": "code",
   "execution_count": 40,
   "metadata": {},
   "outputs": [
    {
     "name": "stdout",
     "output_type": "stream",
     "text": [
      "F1 score for Logistic Regression: 0.6627450980392157\n"
     ]
    }
   ],
   "source": [
    "#Calculate F1 score\n",
    "f1_score_evaluator = MulticlassClassificationEvaluator(labelCol=\"label\", predictionCol=\"prediction\",metricName='f1')\n",
    "f1_score_lr = f1_score_evaluator.evaluate(results_lr)\n",
    "\n",
    "#See F1 score for model\n",
    "print('F1 score for Logistic Regression:', f1_score_lr)"
   ]
  },
  {
   "cell_type": "markdown",
   "metadata": {},
   "source": [
    "### Random Forest"
   ]
  },
  {
   "cell_type": "code",
   "execution_count": 45,
   "metadata": {},
   "outputs": [],
   "source": [
    "#Initialize Random Forest classifier\n",
    "rf = RandomForestClassifier(numTrees=3, maxDepth=2)\n",
    "\n",
    "#set pipeline\n",
    "pipeline = Pipeline(stages = [assembler,scaler,rf])\n",
    "\n",
    "#Set param grid\n",
    "paramGrid = ParamGridBuilder()\\\n",
    "            .addGrid(rf.maxDepth,[5,10])\\\n",
    "            .build()\n",
    "  \n",
    "#cross validation\n",
    "crossval = CrossValidator(estimator = pipeline,\n",
    "                         estimatorParamMaps = paramGrid,\n",
    "                         evaluator= MulticlassClassificationEvaluator(),\n",
    "                         numFolds = 3)\n",
    "\n",
    "#Train pipeline\n",
    "cvModel_rf = crossval.fit(train)\n",
    "\n",
    "#Transform data\n",
    "results_rf = cvModel_rf.transform(test)"
   ]
  },
  {
   "cell_type": "code",
   "execution_count": 46,
   "metadata": {},
   "outputs": [
    {
     "name": "stdout",
     "output_type": "stream",
     "text": [
      "F1 score for Random Forest: 0.7119703825586178\n"
     ]
    }
   ],
   "source": [
    "#Calculate F1 score\n",
    "f1_score_rf = f1_score_evaluator.evaluate(results_rf)\n",
    "\n",
    "#See F1 score for model\n",
    "print('F1 score for Random Forest:', f1_score_rf)"
   ]
  },
  {
   "cell_type": "code",
   "execution_count": 43,
   "metadata": {},
   "outputs": [],
   "source": [
    "gbt = GBTClassifier(maxIter=10,seed=42)\n",
    "\n",
    "#set pipeline\n",
    "pipeline = Pipeline(stages = [assembler,scaler,gbt])\n",
    "\n",
    "#Set param grid\n",
    "paramGrid = ParamGridBuilder()\\\n",
    "            .addGrid(gbt.maxDepth,[3, 5]) \\\n",
    "            .build()\n",
    "  \n",
    "#cross validation\n",
    "crossval = CrossValidator(estimator = pipeline,\n",
    "                         estimatorParamMaps = paramGrid,\n",
    "                         evaluator= MulticlassClassificationEvaluator(),\n",
    "                         numFolds = 3)\n",
    "\n",
    "#Train pipeline\n",
    "cvModelgbt = crossval.fit(train)\n",
    "\n",
    "#Transform data\n",
    "results_gbt = cvModelgbt.transform(test)"
   ]
  },
  {
   "cell_type": "code",
   "execution_count": 44,
   "metadata": {},
   "outputs": [
    {
     "name": "stdout",
     "output_type": "stream",
     "text": [
      "F1 score for GBT Classifier: 0.6867435969603151\n"
     ]
    }
   ],
   "source": [
    "#Calculate F1 score\n",
    "f1_score_gbt = f1_score_evaluator.evaluate(results_gbt)\n",
    "\n",
    "#See F1 score for model\n",
    "print('F1 score for GBT Classifier:', f1_score_gbt)"
   ]
  },
  {
   "cell_type": "markdown",
   "metadata": {},
   "source": [
    "### Model evaluation and Justification"
   ]
  },
  {
   "cell_type": "markdown",
   "metadata": {},
   "source": [
    "We used F1-Score to evaluate models as mentioned before and Random Forest give us the best results.\n",
    "\n",
    "**Random Forest: F1-Score = 0.71197**\n",
    "\n",
    "Random forests or random decision forests are an ensemble learning method for classification, regression and other tasks that operates by constructing a multitude of decision trees at training time. For classification tasks, the output of the random forest is the class selected by most trees.\n",
    "\n",
    "Put simply: random forest builds multiple decision trees and merges them together to get a more accurate and stable prediction.\n",
    "\n",
    "Random forest was chosen to be the most appropriate machine learning model for this problem due to its nature on decision trees and relatively fast training speed. Also the power and scalability of Random Forest for massive data makes it the best option to deploy the model using a spark cluster in the future."
   ]
  },
  {
   "cell_type": "markdown",
   "metadata": {},
   "source": [
    "### Conclusion"
   ]
  },
  {
   "cell_type": "markdown",
   "metadata": {},
   "source": [
    "#### Reflection"
   ]
  },
  {
   "cell_type": "markdown",
   "metadata": {},
   "source": [
    "The goal of the project was to create a model to predict users churn for a music streaming app.\n",
    "\n",
    "For that I cleaned and explored a small subset of sparkify’s users events dataset. Analyze user behavior, get useful insights on data and visualize them. Put all features together into one dataframe in order to deploy a ML model.\n",
    "\n",
    "Random Forest proved to be the best with the best F1-Score, and can be used in the future to work with the entire dataset in a spark cluster.\n",
    "\n",
    "We have created three machine learning classificators to predict churn with good results:\n",
    "\n",
    "* **Logistic Regression:** F1-Score = 0.662745\n",
    "\n",
    "\n",
    "* **Random Forest:** F1-Score = 0.71197\n",
    "\n",
    "\n",
    "* **GBT Classifier:** F1-Score = 0.68674\n",
    "\n",
    "The most challenging part of the project was the feature engineering, as it required a bit of intuition and some creativity. Also learn spark for this project was really motivating and interesting, I’m happy to increase my skills and be able to handle such a powerful tool."
   ]
  },
  {
   "cell_type": "markdown",
   "metadata": {},
   "source": [
    "#### Improvement"
   ]
  },
  {
   "cell_type": "markdown",
   "metadata": {},
   "source": [
    "The next challenge it's to deploy the code in a spark cluster.\n",
    "\n",
    "I think that the model could perform better with the full data set working to perform the predictions.\n",
    "\n",
    "Also I think it could be interesting to work with the entire data set in order to create some features that take into account time. For example: activity in the last month or account age"
   ]
  }
 ],
 "metadata": {
  "kernelspec": {
   "display_name": "Python 3",
   "language": "python",
   "name": "python3"
  },
  "language_info": {
   "codemirror_mode": {
    "name": "ipython",
    "version": 3
   },
   "file_extension": ".py",
   "mimetype": "text/x-python",
   "name": "python",
   "nbconvert_exporter": "python",
   "pygments_lexer": "ipython3",
   "version": "3.8.5"
  }
 },
 "nbformat": 4,
 "nbformat_minor": 2
}
